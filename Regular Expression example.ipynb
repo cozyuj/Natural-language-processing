{
 "cells": [
  {
   "cell_type": "code",
   "execution_count": 6,
   "id": "4f3a2463-5c60-4f0d-918f-32b8f3faa4de",
   "metadata": {},
   "outputs": [
    {
     "data": {
      "text/plain": [
       "<re.Match object; span=(0, 3), match='abd'>"
      ]
     },
     "execution_count": 6,
     "metadata": {},
     "output_type": "execute_result"
    }
   ],
   "source": [
    "import re\n",
    "\n",
    "r = re.compile(\"ab.\")\n",
    "# . 은 1개의 임의의 문자\n",
    "r.match(\"abc\")"
   ]
  },
  {
   "cell_type": "code",
   "execution_count": 7,
   "id": "69cc135a-e61c-4604-999b-3c3a087983dd",
   "metadata": {},
   "outputs": [
    {
     "data": {
      "text/plain": [
       "<re.Match object; span=(0, 3), match='abc'>"
      ]
     },
     "execution_count": 7,
     "metadata": {},
     "output_type": "execute_result"
    }
   ],
   "source": [
    "r.search(\"abc\")"
   ]
  },
  {
   "cell_type": "code",
   "execution_count": 8,
   "id": "456f32b2-dd07-41fe-a4d6-0a5acd0702d1",
   "metadata": {},
   "outputs": [
    {
     "data": {
      "text/plain": [
       "<re.Match object; span=(0, 3), match='abd'>"
      ]
     },
     "execution_count": 8,
     "metadata": {},
     "output_type": "execute_result"
    }
   ],
   "source": [
    "r.match(\"abd\")"
   ]
  },
  {
   "cell_type": "code",
   "execution_count": 9,
   "id": "7610e4aa-7651-4254-bc3f-add86edd31cf",
   "metadata": {},
   "outputs": [
    {
     "data": {
      "text/plain": [
       "<re.Match object; span=(0, 3), match='abd'>"
      ]
     },
     "execution_count": 9,
     "metadata": {},
     "output_type": "execute_result"
    }
   ],
   "source": [
    "r.match(\"abddddd\")"
   ]
  },
  {
   "cell_type": "code",
   "execution_count": 11,
   "id": "c9b35a03-4151-4d71-895f-b69dc489d618",
   "metadata": {},
   "outputs": [
    {
     "data": {
      "text/plain": [
       "<re.Match object; span=(0, 3), match='abd'>"
      ]
     },
     "execution_count": 11,
     "metadata": {},
     "output_type": "execute_result"
    }
   ],
   "source": [
    "r.match(\"abdkkk\")"
   ]
  },
  {
   "cell_type": "code",
   "execution_count": 12,
   "id": "550e4ce3-9b0e-435c-9e6a-79b4b5ae0824",
   "metadata": {},
   "outputs": [],
   "source": [
    "r.match(\"kkkabd\")"
   ]
  },
  {
   "cell_type": "code",
   "execution_count": 13,
   "id": "cf59adbf-7646-4d8f-bf46-0bbe4034538d",
   "metadata": {},
   "outputs": [
    {
     "data": {
      "text/plain": [
       "['사과', '딸기', '수박', '메론', '바나나']"
      ]
     },
     "execution_count": 13,
     "metadata": {},
     "output_type": "execute_result"
    }
   ],
   "source": [
    "text = \"사과 딸기 수박 메론 바나나\"\n",
    "re.split(\" \",text) #정규 표현식을 기준으로 문자열들을 분리하여 리스트로 리턴합니다. "
   ]
  },
  {
   "cell_type": "code",
   "execution_count": 14,
   "id": "0ff881e5-df11-46a3-893f-b8a1fb365c47",
   "metadata": {},
   "outputs": [
    {
     "data": {
      "text/plain": [
       "['010', '1234', '0000']"
      ]
     },
     "execution_count": 14,
     "metadata": {},
     "output_type": "execute_result"
    }
   ],
   "source": [
    "text = \"010-1234-0000\"\n",
    "re.split(\"-\",text)"
   ]
  },
  {
   "cell_type": "code",
   "execution_count": 15,
   "id": "78bca68a-1a58-4829-9b89-714af5699e02",
   "metadata": {},
   "outputs": [
    {
     "data": {
      "text/plain": [
       "['사과', '딸기', '수박', '메론', '바나나']"
      ]
     },
     "execution_count": 15,
     "metadata": {},
     "output_type": "execute_result"
    }
   ],
   "source": [
    "# 줄바꿈 기준 분리\n",
    "text = \"\"\"사과\n",
    "딸기\n",
    "수박\n",
    "메론\n",
    "바나나\"\"\"\n",
    "\n",
    "re.split(\"\\n\", text)"
   ]
  },
  {
   "cell_type": "code",
   "execution_count": null,
   "id": "c23b531e-b81f-49a4-994d-93235a6da647",
   "metadata": {},
   "outputs": [],
   "source": []
  },
  {
   "cell_type": "code",
   "execution_count": 32,
   "id": "595d4800-578a-44cb-b1af-1be88eda63d4",
   "metadata": {},
   "outputs": [
    {
     "data": {
      "text/plain": [
       "['010', '1234', '1234', '30', '9']"
      ]
     },
     "execution_count": 32,
     "metadata": {},
     "output_type": "execute_result"
    }
   ],
   "source": [
    "text = \"\"\"이름 : 김철수\n",
    "전화번호 : 010 - 1234 - 1234\n",
    "나이 : 30\n",
    "숫자 : 9\n",
    "성별 : 남\"\"\"\n",
    "# +는 앞의 앞의 문자가 최소 1개 이상\n",
    "re.findall(r\"\\d+\", text)"
   ]
  },
  {
   "cell_type": "code",
   "execution_count": 33,
   "id": "0276f8f6-0a6d-41c6-9c2b-8a690910c4c6",
   "metadata": {},
   "outputs": [
    {
     "name": "stdout",
     "output_type": "stream",
     "text": [
      "Regular expression   A regular expression  regex or regexp     sometimes called a rational expression        is  in theoretical computer science and formal language theory  a sequence of characters that define a search pattern \n"
     ]
    }
   ],
   "source": [
    "text = \"Regular expression : A regular expression, regex or regexp[1] (sometimes called a rational expression)[2][3] is, in theoretical computer science and formal language theory, a sequence of characters that define a search pattern.\"\n",
    "#  특수 문자를 제거하고 싶다면 알파벳 외의 문자는 공백으로 처리하는 등의 용도\n",
    "preprocessed_text = re.sub('[^a-zA-Z]', ' ', text)\n",
    "print(preprocessed_text)"
   ]
  },
  {
   "cell_type": "code",
   "execution_count": 35,
   "id": "14674148-24b2-42a3-ab0d-813bf7f3bf7b",
   "metadata": {},
   "outputs": [
    {
     "data": {
      "text/plain": [
       "['100', 'John', 'PROF', '101', 'James', 'STUD', '102', 'Mac', 'STUD']"
      ]
     },
     "execution_count": 35,
     "metadata": {},
     "output_type": "execute_result"
    }
   ],
   "source": [
    "text = \"\"\"100 John    PROF\n",
    "101 James   STUD\n",
    "102 Mac   STUD\"\"\"\n",
    "re.split(r'\\s+', text)   #\\s는 스페이스, 공백을 말함"
   ]
  },
  {
   "cell_type": "code",
   "execution_count": 37,
   "id": "35911eb0-bcbe-48cb-a89e-f56a8126b690",
   "metadata": {},
   "outputs": [
    {
     "data": {
      "text/plain": [
       "['100', '101', '102']"
      ]
     },
     "execution_count": 37,
     "metadata": {},
     "output_type": "execute_result"
    }
   ],
   "source": [
    "re.findall(r'\\d+',text) "
   ]
  },
  {
   "cell_type": "code",
   "execution_count": 38,
   "id": "437c1b06-9b37-4f82-9a67-b884874e2ae0",
   "metadata": {},
   "outputs": [
    {
     "data": {
      "text/plain": [
       "['J', 'P', 'R', 'O', 'F', 'J', 'S', 'T', 'U', 'D', 'M', 'S', 'T', 'U', 'D']"
      ]
     },
     "execution_count": 38,
     "metadata": {},
     "output_type": "execute_result"
    }
   ],
   "source": [
    "re.findall('[A-Z]',text)"
   ]
  },
  {
   "cell_type": "code",
   "execution_count": 39,
   "id": "0ff56979-b252-463e-8d33-8d8224a12ecb",
   "metadata": {},
   "outputs": [
    {
     "data": {
      "text/plain": [
       "['PROF', 'STUD', 'STUD']"
      ]
     },
     "execution_count": 39,
     "metadata": {},
     "output_type": "execute_result"
    }
   ],
   "source": [
    "re.findall('[A-Z]{4}',text)  #4개이상의 대문자"
   ]
  },
  {
   "cell_type": "code",
   "execution_count": null,
   "id": "d1bfb084-32c9-4113-b57f-8d086d65d226",
   "metadata": {},
   "outputs": [],
   "source": []
  }
 ],
 "metadata": {
  "kernelspec": {
   "display_name": "Python 3 (ipykernel)",
   "language": "python",
   "name": "python3"
  },
  "language_info": {
   "codemirror_mode": {
    "name": "ipython",
    "version": 3
   },
   "file_extension": ".py",
   "mimetype": "text/x-python",
   "name": "python",
   "nbconvert_exporter": "python",
   "pygments_lexer": "ipython3",
   "version": "3.12.9"
  }
 },
 "nbformat": 4,
 "nbformat_minor": 5
}
