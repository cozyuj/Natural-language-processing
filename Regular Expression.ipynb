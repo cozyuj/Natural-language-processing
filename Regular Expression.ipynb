{
 "cells": [
  {
   "cell_type": "code",
   "execution_count": 1,
   "id": "5e6a863f-edd2-400b-8c9b-5c83565da21b",
   "metadata": {},
   "outputs": [],
   "source": [
    "# Regular Expression\n",
    "\n",
    "# r = re.compile(\"정규표현식\")\n",
    "# r.search() => 리스트 반환\n",
    "\n",
    "import re\n",
    "\n",
    "r = re.compile(\"a.c\")\n",
    "r.search(\"kkk\") # 아무런 결과도 출력되지 않는다."
   ]
  },
  {
   "cell_type": "code",
   "execution_count": 2,
   "id": "a35360c3-4e2f-40eb-b248-026b5db79c18",
   "metadata": {},
   "outputs": [
    {
     "data": {
      "text/plain": [
       "<re.Match object; span=(0, 3), match='abc'>"
      ]
     },
     "execution_count": 2,
     "metadata": {},
     "output_type": "execute_result"
    }
   ],
   "source": [
    "r.search(\"abc\")"
   ]
  },
  {
   "cell_type": "code",
   "execution_count": 3,
   "id": "32142bda-498e-4c7e-835a-fcc7019bf0f2",
   "metadata": {},
   "outputs": [],
   "source": [
    "r = re.compile(\"ab?c\")\n",
    "r.search(\"abbc\") # 아무런 결과도 출력되지 않는다."
   ]
  },
  {
   "cell_type": "code",
   "execution_count": 4,
   "id": "c7e86d50-aad4-47e2-9e37-bac8e30f3581",
   "metadata": {},
   "outputs": [
    {
     "data": {
      "text/plain": [
       "<re.Match object; span=(0, 2), match='ac'>"
      ]
     },
     "execution_count": 4,
     "metadata": {},
     "output_type": "execute_result"
    }
   ],
   "source": [
    "r.search(\"ac\")"
   ]
  },
  {
   "cell_type": "code",
   "execution_count": 5,
   "id": "a8bffd67-d6d4-4bec-a9a2-cc95881b602d",
   "metadata": {},
   "outputs": [],
   "source": [
    "r.search(\"a\")"
   ]
  },
  {
   "cell_type": "code",
   "execution_count": 6,
   "id": "09bbfa47-7651-4165-a201-a6626e5da9d7",
   "metadata": {},
   "outputs": [],
   "source": [
    "r.search(\"a-z\")"
   ]
  },
  {
   "cell_type": "code",
   "execution_count": 15,
   "id": "4d9c946f-6854-4b85-a450-c2967f504378",
   "metadata": {
    "scrolled": true
   },
   "outputs": [
    {
     "data": {
      "text/plain": [
       "<re.Match object; span=(3, 4), match='d'>"
      ]
     },
     "execution_count": 15,
     "metadata": {},
     "output_type": "execute_result"
    }
   ],
   "source": [
    "r = re.compile(\"a?d\") # ?앞에 a는 0개 이거나 1개 이상이거나 \n",
    "r.search(\"abcd\")"
   ]
  },
  {
   "cell_type": "code",
   "execution_count": 14,
   "id": "8420135b-e706-4201-a3b8-a7a4dbedc6a2",
   "metadata": {},
   "outputs": [
    {
     "data": {
      "text/plain": [
       "<re.Match object; span=(0, 8), match='accccccd'>"
      ]
     },
     "execution_count": 14,
     "metadata": {},
     "output_type": "execute_result"
    }
   ],
   "source": [
    "r = re.compile(\"ac*d\"). # *앞에 c는 0개 이상일 수 있음\n",
    "r.search(\"accccccd\")"
   ]
  },
  {
   "cell_type": "code",
   "execution_count": 16,
   "id": "e65001aa-859b-4356-9ed7-6fde39727e7f",
   "metadata": {},
   "outputs": [
    {
     "data": {
      "text/plain": [
       "<re.Match object; span=(0, 2), match='ab'>"
      ]
     },
     "execution_count": 16,
     "metadata": {},
     "output_type": "execute_result"
    }
   ],
   "source": [
    "r = re.compile(\"^ab\") # 문자열 ab로 시작되는 경우 매치\n",
    "\n",
    "r.search(\"bbc\")\n",
    "r.search(\"zab\")\n",
    "r.search(\"abbbb\")"
   ]
  },
  {
   "cell_type": "code",
   "execution_count": 17,
   "id": "4f3dd845-a1fa-4f6e-956e-93e80592d01d",
   "metadata": {},
   "outputs": [],
   "source": [
    "r.search(\"cccab\")"
   ]
  },
  {
   "cell_type": "code",
   "execution_count": 18,
   "id": "5bb386b5-3529-44cb-bccc-b6f027e80529",
   "metadata": {},
   "outputs": [
    {
     "data": {
      "text/plain": [
       "<re.Match object; span=(0, 2), match='ab'>"
      ]
     },
     "execution_count": 18,
     "metadata": {},
     "output_type": "execute_result"
    }
   ],
   "source": [
    "r.search(\"abccc\")"
   ]
  },
  {
   "cell_type": "code",
   "execution_count": 19,
   "id": "efee05f2-c67e-4a69-9938-58cec717668d",
   "metadata": {},
   "outputs": [],
   "source": [
    "r = re.compile(\"ab{2}c\") \n",
    "# ab{2}c라면 a와 c 사이에 b가 존재하면서 b가 2개인 문자열에 대해서 매치\n",
    "r.search(\"ab02c\")"
   ]
  },
  {
   "cell_type": "code",
   "execution_count": 21,
   "id": "7bf578d8-04d3-47f3-a7b5-f620746f62bc",
   "metadata": {},
   "outputs": [
    {
     "data": {
      "text/plain": [
       "<re.Match object; span=(0, 4), match='abbc'>"
      ]
     },
     "execution_count": 21,
     "metadata": {},
     "output_type": "execute_result"
    }
   ],
   "source": [
    "r.search(\"abbc\")"
   ]
  },
  {
   "cell_type": "code",
   "execution_count": 22,
   "id": "406af144-837c-49b0-833f-64b765a608a0",
   "metadata": {},
   "outputs": [
    {
     "data": {
      "text/plain": [
       "<re.Match object; span=(0, 10), match='abbbbbbbbc'>"
      ]
     },
     "execution_count": 22,
     "metadata": {},
     "output_type": "execute_result"
    }
   ],
   "source": [
    "r = re.compile(\"ab{2,8}c\")\n",
    "# a와 c 사이에 b가 존재하면서 b는 2개 이상 8개 이하인 문자열\n",
    "r.search(\"abbbbbbbbc\")\n"
   ]
  },
  {
   "cell_type": "code",
   "execution_count": 23,
   "id": "e84fa1ee-3954-4889-baf5-44be43706cf6",
   "metadata": {},
   "outputs": [
    {
     "data": {
      "text/plain": [
       "<re.Match object; span=(4, 14), match='abbbbbbbbc'>"
      ]
     },
     "execution_count": 23,
     "metadata": {},
     "output_type": "execute_result"
    }
   ],
   "source": [
    "r.search(\"ssssabbbbbbbbc\")"
   ]
  },
  {
   "cell_type": "code",
   "execution_count": 24,
   "id": "c35f0e61-ca9b-4cad-a0c5-9a2466b5a6cf",
   "metadata": {},
   "outputs": [
    {
     "data": {
      "text/plain": [
       "<re.Match object; span=(0, 4), match='aabc'>"
      ]
     },
     "execution_count": 24,
     "metadata": {},
     "output_type": "execute_result"
    }
   ],
   "source": [
    "r = re.compile(\"a{2,}bc\")\n",
    "# a가 2개이상 반복되는 문자열\n",
    "r.search(\"aabc\")"
   ]
  },
  {
   "cell_type": "code",
   "execution_count": 25,
   "id": "cecc9913-49c4-437b-a190-ab707bfad6d0",
   "metadata": {},
   "outputs": [
    {
     "data": {
      "text/plain": [
       "<re.Match object; span=(0, 11), match='aaaaaaaaabc'>"
      ]
     },
     "execution_count": 25,
     "metadata": {},
     "output_type": "execute_result"
    }
   ],
   "source": [
    "r.search(\"aaaaaaaaabc\")"
   ]
  },
  {
   "cell_type": "code",
   "execution_count": 26,
   "id": "4412e232-8da0-4e71-a828-5eb200be5c70",
   "metadata": {},
   "outputs": [
    {
     "data": {
      "text/plain": [
       "<re.Match object; span=(0, 1), match='a'>"
      ]
     },
     "execution_count": 26,
     "metadata": {},
     "output_type": "execute_result"
    }
   ],
   "source": [
    "r = re.compile(\"[abc]\") #a 또는 b또는 c가 들어가있는 문자열 = [a-c]\n",
    "r.search(\"a aaaaa\")"
   ]
  },
  {
   "cell_type": "code",
   "execution_count": 27,
   "id": "e128b5e9-6827-4fb6-8c17-e53b0c39eb75",
   "metadata": {},
   "outputs": [
    {
     "data": {
      "text/plain": [
       "<re.Match object; span=(0, 1), match='a'>"
      ]
     },
     "execution_count": 27,
     "metadata": {},
     "output_type": "execute_result"
    }
   ],
   "source": [
    "r.search(\"abc\")"
   ]
  },
  {
   "cell_type": "code",
   "execution_count": 28,
   "id": "630d44fb-b506-42bf-a29d-45e6fd40495b",
   "metadata": {},
   "outputs": [
    {
     "data": {
      "text/plain": [
       "<re.Match object; span=(0, 1), match='b'>"
      ]
     },
     "execution_count": 28,
     "metadata": {},
     "output_type": "execute_result"
    }
   ],
   "source": [
    "r.search(\"b\")"
   ]
  },
  {
   "cell_type": "code",
   "execution_count": 29,
   "id": "ec78f731-bddb-4cb8-978a-2f7b222ca978",
   "metadata": {},
   "outputs": [
    {
     "data": {
      "text/plain": [
       "<re.Match object; span=(0, 1), match='b'>"
      ]
     },
     "execution_count": 29,
     "metadata": {},
     "output_type": "execute_result"
    }
   ],
   "source": [
    "r.search(\"bc\")"
   ]
  },
  {
   "cell_type": "code",
   "execution_count": 30,
   "id": "9b1033d1-038a-4798-9b1c-4cb81481b8ec",
   "metadata": {},
   "outputs": [
    {
     "data": {
      "text/plain": [
       "<re.Match object; span=(0, 1), match='a'>"
      ]
     },
     "execution_count": 30,
     "metadata": {},
     "output_type": "execute_result"
    }
   ],
   "source": [
    "r = re.compile(\"[a-z]\")\n",
    "r.search(\"aBC\")"
   ]
  },
  {
   "cell_type": "code",
   "execution_count": 31,
   "id": "7cdfa6ce-e543-49a0-a378-97cdb3aa33cc",
   "metadata": {},
   "outputs": [
    {
     "data": {
      "text/plain": [
       "<re.Match object; span=(0, 1), match='a'>"
      ]
     },
     "execution_count": 31,
     "metadata": {},
     "output_type": "execute_result"
    }
   ],
   "source": [
    "r.search(\"abde\")"
   ]
  },
  {
   "cell_type": "code",
   "execution_count": 32,
   "id": "3639d332-216e-470a-9992-8e426f02d080",
   "metadata": {},
   "outputs": [
    {
     "data": {
      "text/plain": [
       "<re.Match object; span=(0, 1), match='A'>"
      ]
     },
     "execution_count": 32,
     "metadata": {},
     "output_type": "execute_result"
    }
   ],
   "source": [
    "r = re.compile(\"[a-zA-Z]\")\n",
    "r.search(\"Aie\")"
   ]
  },
  {
   "cell_type": "code",
   "execution_count": 33,
   "id": "c562eb7d-812e-458d-aff5-6d2e2d44da46",
   "metadata": {},
   "outputs": [
    {
     "data": {
      "text/plain": [
       "<re.Match object; span=(2, 3), match='o'>"
      ]
     },
     "execution_count": 33,
     "metadata": {},
     "output_type": "execute_result"
    }
   ],
   "source": [
    "r = re.compile(\"[^abc]\")\n",
    "# a 또는 b 또는 c가 들어간 문자열을 제외한 모든 문자열 \n",
    "r.search(\"aboeid\")"
   ]
  },
  {
   "cell_type": "code",
   "execution_count": null,
   "id": "3bb0a195-f047-48eb-9ca1-60fd7d136cec",
   "metadata": {},
   "outputs": [],
   "source": []
  }
 ],
 "metadata": {
  "kernelspec": {
   "display_name": "Python 3 (ipykernel)",
   "language": "python",
   "name": "python3"
  },
  "language_info": {
   "codemirror_mode": {
    "name": "ipython",
    "version": 3
   },
   "file_extension": ".py",
   "mimetype": "text/x-python",
   "name": "python",
   "nbconvert_exporter": "python",
   "pygments_lexer": "ipython3",
   "version": "3.12.9"
  }
 },
 "nbformat": 4,
 "nbformat_minor": 5
}
